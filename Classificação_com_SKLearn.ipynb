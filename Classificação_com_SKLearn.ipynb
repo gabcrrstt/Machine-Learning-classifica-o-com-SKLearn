{
  "nbformat": 4,
  "nbformat_minor": 0,
  "metadata": {
    "colab": {
      "provenance": [],
      "authorship_tag": "ABX9TyMZRiJTOAsDLBqC5uyfTnw9",
      "include_colab_link": true
    },
    "kernelspec": {
      "name": "python3",
      "display_name": "Python 3"
    },
    "language_info": {
      "name": "python"
    }
  },
  "cells": [
    {
      "cell_type": "markdown",
      "metadata": {
        "id": "view-in-github",
        "colab_type": "text"
      },
      "source": [
        "<a href=\"https://colab.research.google.com/github/gabcrrstt/Machine-Learning-classifica-o-com-SKLearn/blob/main/Classifica%C3%A7%C3%A3o_com_SKLearn.ipynb\" target=\"_parent\"><img src=\"https://colab.research.google.com/assets/colab-badge.svg\" alt=\"Open In Colab\"/></a>"
      ]
    },
    {
      "cell_type": "code",
      "execution_count": 3,
      "metadata": {
        "id": "b8vRsxPSE9lO"
      },
      "outputs": [],
      "source": [
        "#features\n",
        "# pelo longo\n",
        "#perna curta\n",
        "#faz auau\n",
        "# 1 - sim, 2 - nao\n",
        "porco1 = [0,1,0]\n",
        "porco2 = [0,1,1]\n",
        "porco3 = [1,1,0]\n",
        "\n",
        "cachorro1 = [1,1,1]\n",
        "cachorro2 = [1,0,1]\n",
        "cachorro3 = [1,1,1]\n",
        "\n",
        "dados = [porco1,porco2,porco3,cachorro1,cachorro2,cachorro3]\n",
        "classes = [1,1,1,0,0,0]"
      ]
    },
    {
      "cell_type": "code",
      "source": [],
      "metadata": {
        "id": "nUxtctvHMxnW"
      },
      "execution_count": null,
      "outputs": []
    }
  ]
}